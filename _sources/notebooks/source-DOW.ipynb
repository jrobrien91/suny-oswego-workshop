{
 "cells": [
  {
   "cell_type": "markdown",
   "id": "bc096dd3-223b-4c64-b9cb-45e6c39fa271",
   "metadata": {},
   "source": [
    "# Your Turn! - SUNY Oswego SOURCE\n",
    "\n",
    "- Data from DOW6 have been processed for SOURCE and are available. \n",
    "- Below, a sample file has been staged for your use. "
   ]
  },
  {
   "cell_type": "code",
   "execution_count": null,
   "id": "109447fb-4f52-4ddb-beec-f4a8ef1e7b0d",
   "metadata": {},
   "outputs": [],
   "source": [
    "# File Location\n",
    "dow_file = 'data/cfrad.20240404_060356.104_DOW6_v170_s17_el1.92_SUR.nc'"
   ]
  },
  {
   "cell_type": "markdown",
   "id": "651b4480-3bde-44f5-a56a-2423f8233262",
   "metadata": {},
   "source": [
    "<div class=\"admonition alert alert-success\">\n",
    "    <p class=\"admonition-title\" style=\"font-weight:bold\">Question 1 - Easy</p>\n",
    "    Similar to the previous notebook, create a PPI display of the DOW radar data\n",
    "</div>"
   ]
  },
  {
   "cell_type": "markdown",
   "id": "9ace9ccc-b5bf-4142-8c6a-3b853c852ead",
   "metadata": {},
   "source": [
    "<div class=\"admonition alert alert-warning\">\n",
    "    <p class=\"admonition-title\" style=\"font-weight:bold\">Question 2 - Intermediate</p>\n",
    "    What type of precipitation occured (i.e. hydrometeor classification) can rely upon a\n",
    "    a variety of radar parameters. \n",
    "    Create a display of a radar field that can used to identify specific hydrometeors. \n",
    "</div>"
   ]
  },
  {
   "cell_type": "markdown",
   "id": "57703cdb-656c-45b4-8bad-7308344d16d8",
   "metadata": {},
   "source": [
    "<div class=\"admonition alert alert-danger\">\n",
    "    <p class=\"admonition-title\" style=\"font-weight:bold\">Question 3 - Hard</p>\n",
    "    Equivalent Radar Reflectivity factor can be used to determine precipitation rates. Create a function to calculate snowfall from this field and display snowfall rates using the following equation\n",
    "</div>"
   ]
  },
  {
   "cell_type": "markdown",
   "id": "a8b2efab-a01c-42f3-84ff-6f34917a20c1",
   "metadata": {},
   "source": [
    "# Z-S Relationships\n",
    "\n",
    "$Z = A*S ^ {B}$\n",
    "\n",
    "Where:\n",
    "- Z = Reflectivity in dBZ\n",
    "- A = Coefficient applied to Z-S Relationship (not in the exponent)\n",
    "- S = Liquid snowfall rate\n",
    "- B = Coefficient applied to Z-S Relationship (in the exponent)\n",
    "\n",
    "We also need to apply a snow water equivalent ratio (`swe`) to convert from liquid to snow (ex. 8 inches of snow --> 1 inch of rain would be 8.0).\n",
    "\n",
    "This equation now becomes:\n",
    "\n",
    "$Z = swe*A*S ^ {B}$\n",
    "\n",
    "Solving for S, we get:\n",
    "\n",
    "$S = swe * (\\frac{z}{a})^{1/B}$\n",
    "\n",
    "Where z is reflectivity in units of dB ($z =10^{Z/10}$)"
   ]
  },
  {
   "cell_type": "code",
   "execution_count": null,
   "id": "25c8eee8-9f52-45bc-b52f-9bc67cb22403",
   "metadata": {},
   "outputs": [],
   "source": []
  }
 ],
 "metadata": {
  "kernelspec": {
   "display_name": "Python 3 (ipykernel)",
   "language": "python",
   "name": "python3"
  },
  "language_info": {
   "codemirror_mode": {
    "name": "ipython",
    "version": 3
   },
   "file_extension": ".py",
   "mimetype": "text/x-python",
   "name": "python",
   "nbconvert_exporter": "python",
   "pygments_lexer": "ipython3",
   "version": "3.12.2"
  }
 },
 "nbformat": 4,
 "nbformat_minor": 5
}
